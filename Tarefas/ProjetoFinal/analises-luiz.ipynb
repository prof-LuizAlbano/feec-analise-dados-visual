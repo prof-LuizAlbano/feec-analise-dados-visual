{
 "cells": [
  {
   "cell_type": "code",
   "execution_count": 1,
   "metadata": {},
   "outputs": [],
   "source": [
    "import pandas as pd\n",
    "from plotnine import *"
   ]
  },
  {
   "cell_type": "code",
   "execution_count": 2,
   "metadata": {},
   "outputs": [
    {
     "data": {
      "text/plain": [
       "(1507476, 54)"
      ]
     },
     "execution_count": 2,
     "metadata": {},
     "output_type": "execute_result"
    }
   ],
   "source": [
    "#Carregamento da base\n",
    "df = pd.read_csv('BaseDados/microdados_matriculas_2021.csv', sep=';', low_memory=False)\n",
    "df.shape"
   ]
  },
  {
   "cell_type": "code",
   "execution_count": 3,
   "metadata": {},
   "outputs": [
    {
     "data": {
      "text/html": [
       "<div>\n",
       "<style scoped>\n",
       "    .dataframe tbody tr th:only-of-type {\n",
       "        vertical-align: middle;\n",
       "    }\n",
       "\n",
       "    .dataframe tbody tr th {\n",
       "        vertical-align: top;\n",
       "    }\n",
       "\n",
       "    .dataframe thead th {\n",
       "        text-align: right;\n",
       "    }\n",
       "</style>\n",
       "<table border=\"1\" class=\"dataframe\">\n",
       "  <thead>\n",
       "    <tr style=\"text-align: right;\">\n",
       "      <th></th>\n",
       "      <th>Carga Horaria</th>\n",
       "      <th>Carga Horaria Minima</th>\n",
       "      <th>Categoria de Situação</th>\n",
       "      <th>Cod Unidade</th>\n",
       "      <th>Cor/Raça</th>\n",
       "      <th>Código da Matrícula</th>\n",
       "      <th>Código da Unidade de Ensino - SISTEC</th>\n",
       "      <th>Código do Ciclo de Matrícula</th>\n",
       "      <th>Código do Município com DV</th>\n",
       "      <th>Data de Fim Previsto do Ciclo</th>\n",
       "      <th>...</th>\n",
       "      <th>Vagas Ofertadas</th>\n",
       "      <th>Vagas Regulares AC</th>\n",
       "      <th>Vagas Regulares l1</th>\n",
       "      <th>Vagas Regulares l10</th>\n",
       "      <th>Vagas Regulares l13</th>\n",
       "      <th>Vagas Regulares l14</th>\n",
       "      <th>Vagas Regulares l2</th>\n",
       "      <th>Vagas Regulares l5</th>\n",
       "      <th>Vagas Regulares l6</th>\n",
       "      <th>Vagas Regulares l9</th>\n",
       "    </tr>\n",
       "  </thead>\n",
       "  <tbody>\n",
       "    <tr>\n",
       "      <th>0</th>\n",
       "      <td>3182</td>\n",
       "      <td>800</td>\n",
       "      <td>Concluintes</td>\n",
       "      <td>17</td>\n",
       "      <td>BRANCA</td>\n",
       "      <td>66845709</td>\n",
       "      <td>13791</td>\n",
       "      <td>2016192</td>\n",
       "      <td>5201108</td>\n",
       "      <td>20/12/2018</td>\n",
       "      <td>...</td>\n",
       "      <td>0.0</td>\n",
       "      <td>0.0</td>\n",
       "      <td>0.0</td>\n",
       "      <td>0.0</td>\n",
       "      <td>0.0</td>\n",
       "      <td>0.0</td>\n",
       "      <td>0.0</td>\n",
       "      <td>0.0</td>\n",
       "      <td>0.0</td>\n",
       "      <td>0.0</td>\n",
       "    </tr>\n",
       "    <tr>\n",
       "      <th>1</th>\n",
       "      <td>3641</td>\n",
       "      <td>1200</td>\n",
       "      <td>Concluintes</td>\n",
       "      <td>279</td>\n",
       "      <td>BRANCA</td>\n",
       "      <td>66801823</td>\n",
       "      <td>3508</td>\n",
       "      <td>2016354</td>\n",
       "      <td>5211503</td>\n",
       "      <td>20/12/2018</td>\n",
       "      <td>...</td>\n",
       "      <td>0.0</td>\n",
       "      <td>0.0</td>\n",
       "      <td>0.0</td>\n",
       "      <td>0.0</td>\n",
       "      <td>0.0</td>\n",
       "      <td>0.0</td>\n",
       "      <td>0.0</td>\n",
       "      <td>0.0</td>\n",
       "      <td>0.0</td>\n",
       "      <td>0.0</td>\n",
       "    </tr>\n",
       "    <tr>\n",
       "      <th>2</th>\n",
       "      <td>5800</td>\n",
       "      <td>4000</td>\n",
       "      <td>Concluintes</td>\n",
       "      <td>523</td>\n",
       "      <td>BRANCA</td>\n",
       "      <td>64271041</td>\n",
       "      <td>2956</td>\n",
       "      <td>1859227</td>\n",
       "      <td>5221809</td>\n",
       "      <td>21/12/2018</td>\n",
       "      <td>...</td>\n",
       "      <td>40.0</td>\n",
       "      <td>20.0</td>\n",
       "      <td>3.0</td>\n",
       "      <td>1.0</td>\n",
       "      <td>1.0</td>\n",
       "      <td>1.0</td>\n",
       "      <td>5.0</td>\n",
       "      <td>3.0</td>\n",
       "      <td>5.0</td>\n",
       "      <td>1.0</td>\n",
       "    </tr>\n",
       "    <tr>\n",
       "      <th>3</th>\n",
       "      <td>4370</td>\n",
       "      <td>3600</td>\n",
       "      <td>Evadidos</td>\n",
       "      <td>523</td>\n",
       "      <td>BRANCA</td>\n",
       "      <td>44608044</td>\n",
       "      <td>2956</td>\n",
       "      <td>1206840</td>\n",
       "      <td>5221809</td>\n",
       "      <td>22/12/2016</td>\n",
       "      <td>...</td>\n",
       "      <td>40.0</td>\n",
       "      <td>20.0</td>\n",
       "      <td>3.0</td>\n",
       "      <td>1.0</td>\n",
       "      <td>1.0</td>\n",
       "      <td>1.0</td>\n",
       "      <td>5.0</td>\n",
       "      <td>3.0</td>\n",
       "      <td>5.0</td>\n",
       "      <td>1.0</td>\n",
       "    </tr>\n",
       "    <tr>\n",
       "      <th>4</th>\n",
       "      <td>5800</td>\n",
       "      <td>4000</td>\n",
       "      <td>Concluintes</td>\n",
       "      <td>523</td>\n",
       "      <td>BRANCA</td>\n",
       "      <td>59220389</td>\n",
       "      <td>2956</td>\n",
       "      <td>1859227</td>\n",
       "      <td>5221809</td>\n",
       "      <td>21/12/2018</td>\n",
       "      <td>...</td>\n",
       "      <td>40.0</td>\n",
       "      <td>20.0</td>\n",
       "      <td>3.0</td>\n",
       "      <td>1.0</td>\n",
       "      <td>1.0</td>\n",
       "      <td>1.0</td>\n",
       "      <td>5.0</td>\n",
       "      <td>3.0</td>\n",
       "      <td>5.0</td>\n",
       "      <td>1.0</td>\n",
       "    </tr>\n",
       "  </tbody>\n",
       "</table>\n",
       "<p>5 rows × 54 columns</p>\n",
       "</div>"
      ],
      "text/plain": [
       "   Carga Horaria  Carga Horaria Minima Categoria de Situação  Cod Unidade  \\\n",
       "0           3182                   800           Concluintes           17   \n",
       "1           3641                  1200           Concluintes          279   \n",
       "2           5800                  4000           Concluintes          523   \n",
       "3           4370                  3600              Evadidos          523   \n",
       "4           5800                  4000           Concluintes          523   \n",
       "\n",
       "  Cor/Raça  Código da Matrícula  Código da Unidade de Ensino - SISTEC  \\\n",
       "0   BRANCA             66845709                                 13791   \n",
       "1   BRANCA             66801823                                  3508   \n",
       "2   BRANCA             64271041                                  2956   \n",
       "3   BRANCA             44608044                                  2956   \n",
       "4   BRANCA             59220389                                  2956   \n",
       "\n",
       "   Código do Ciclo de Matrícula  Código do Município com DV  \\\n",
       "0                       2016192                     5201108   \n",
       "1                       2016354                     5211503   \n",
       "2                       1859227                     5221809   \n",
       "3                       1206840                     5221809   \n",
       "4                       1859227                     5221809   \n",
       "\n",
       "  Data de Fim Previsto do Ciclo  ... Vagas Ofertadas Vagas Regulares AC  \\\n",
       "0                    20/12/2018  ...             0.0                0.0   \n",
       "1                    20/12/2018  ...             0.0                0.0   \n",
       "2                    21/12/2018  ...            40.0               20.0   \n",
       "3                    22/12/2016  ...            40.0               20.0   \n",
       "4                    21/12/2018  ...            40.0               20.0   \n",
       "\n",
       "  Vagas Regulares l1 Vagas Regulares l10 Vagas Regulares l13  \\\n",
       "0                0.0                 0.0                 0.0   \n",
       "1                0.0                 0.0                 0.0   \n",
       "2                3.0                 1.0                 1.0   \n",
       "3                3.0                 1.0                 1.0   \n",
       "4                3.0                 1.0                 1.0   \n",
       "\n",
       "  Vagas Regulares l14  Vagas Regulares l2 Vagas Regulares l5  \\\n",
       "0                 0.0                 0.0                0.0   \n",
       "1                 0.0                 0.0                0.0   \n",
       "2                 1.0                 5.0                3.0   \n",
       "3                 1.0                 5.0                3.0   \n",
       "4                 1.0                 5.0                3.0   \n",
       "\n",
       "   Vagas Regulares l6 Vagas Regulares l9  \n",
       "0                 0.0                0.0  \n",
       "1                 0.0                0.0  \n",
       "2                 5.0                1.0  \n",
       "3                 5.0                1.0  \n",
       "4                 5.0                1.0  \n",
       "\n",
       "[5 rows x 54 columns]"
      ]
     },
     "execution_count": 3,
     "metadata": {},
     "output_type": "execute_result"
    }
   ],
   "source": [
    "df.head()"
   ]
  },
  {
   "cell_type": "code",
   "execution_count": 4,
   "metadata": {},
   "outputs": [
    {
     "data": {
      "text/plain": [
       "(1507476, 18)"
      ]
     },
     "execution_count": 4,
     "metadata": {},
     "output_type": "execute_result"
    }
   ],
   "source": [
    "#Fazendo uma extração do Dataset geral somente as colunas que nos dariam os dados que interessariam para o nosso estudo\n",
    "studyColumns = ['Cor/Raça', 'Eixo Tecnológico', 'Faixa Etária', 'Fator Esforco Curso', 'Fonte de Financiamento', 'Idade', 'Instituição', 'Modalidade de Ensino', 'Código do Município com DV', 'Nome de Curso', 'Região', 'Renda Familiar', 'Sexo', 'Situação de Matrícula', 'Tipo de Curso', 'Turno', 'UF', 'Unidade de Ensino']\n",
    "df = df[studyColumns]\n",
    "df.shape"
   ]
  },
  {
   "cell_type": "code",
   "execution_count": 5,
   "metadata": {},
   "outputs": [
    {
     "name": "stdout",
     "output_type": "stream",
     "text": [
      "Cor/Raça                         0\n",
      "Eixo Tecnológico                 0\n",
      "Faixa Etária                     0\n",
      "Fator Esforco Curso              0\n",
      "Fonte de Financiamento           0\n",
      "Idade                         3784\n",
      "Instituição                      0\n",
      "Modalidade de Ensino             0\n",
      "Código do Município com DV       0\n",
      "Nome de Curso                    0\n",
      "Região                           0\n",
      "Renda Familiar                   0\n",
      "Sexo                             0\n",
      "Situação de Matrícula            0\n",
      "Tipo de Curso                    0\n",
      "Turno                            0\n",
      "UF                               0\n",
      "Unidade de Ensino                0\n",
      "dtype: int64\n"
     ]
    }
   ],
   "source": [
    "# 2.1. Verificando dados em falta\n",
    "print(df.isnull().sum())"
   ]
  },
  {
   "cell_type": "code",
   "execution_count": 6,
   "metadata": {},
   "outputs": [
    {
     "data": {
      "text/plain": [
       "(1503692, 18)"
      ]
     },
     "execution_count": 6,
     "metadata": {},
     "output_type": "execute_result"
    }
   ],
   "source": [
    "# 2.2. Removendo linhas com dados em falta\n",
    "df_cleaned = df.dropna()\n",
    "df_cleaned.shape"
   ]
  },
  {
   "cell_type": "code",
   "execution_count": 7,
   "metadata": {},
   "outputs": [
    {
     "name": "stderr",
     "output_type": "stream",
     "text": [
      "C:\\Users\\junio\\AppData\\Local\\Temp\\ipykernel_13520\\526748933.py:2: SettingWithCopyWarning: \n",
      "A value is trying to be set on a copy of a slice from a DataFrame.\n",
      "Try using .loc[row_indexer,col_indexer] = value instead\n",
      "\n",
      "See the caveats in the documentation: https://pandas.pydata.org/pandas-docs/stable/user_guide/indexing.html#returning-a-view-versus-a-copy\n"
     ]
    }
   ],
   "source": [
    "# 2.3. Converter tipo de dado\n",
    "df_cleaned['Idade'] = df_cleaned['Idade'].astype(int)"
   ]
  },
  {
   "cell_type": "code",
   "execution_count": 8,
   "metadata": {},
   "outputs": [
    {
     "name": "stdout",
     "output_type": "stream",
     "text": [
      "['1<RFP<=1,5' 'RFP>3,5' '0<RFP<=0,5' '1,5<RFP<=2,5' '2,5<RFP<=3,5'\n",
      " 'Não declarada' '0,5<RFP<=1']\n"
     ]
    }
   ],
   "source": [
    "#Verificando os dados\n",
    "\n",
    "#Idade\n",
    "print(df_cleaned['Renda Familiar'].unique())"
   ]
  },
  {
   "cell_type": "code",
   "execution_count": 9,
   "metadata": {},
   "outputs": [
    {
     "data": {
      "text/plain": [
       "array(['Integralizada', 'Concluída', 'Abandono', 'Em curso', 'Desligada',\n",
       "       'Cancelada', 'Transf. externa', 'Transf. interna', 'Reprovado'],\n",
       "      dtype=object)"
      ]
     },
     "execution_count": 9,
     "metadata": {},
     "output_type": "execute_result"
    }
   ],
   "source": [
    "#Situação de Matrícula\n",
    "situacoes_matricula = df_cleaned['Situação de Matrícula'].unique()\n",
    "situacoes_matricula"
   ]
  },
  {
   "cell_type": "code",
   "execution_count": 10,
   "metadata": {},
   "outputs": [
    {
     "data": {
      "text/plain": [
       "array(['Técnico', 'Bacharelado', 'Tecnologia',\n",
       "       'Qualificação Profissional (FIC)', 'Especialização (Lato Sensu)',\n",
       "       'Mestrado Profissional', 'Mestrado', 'Ensino Fundamental II',\n",
       "       'Ensino Médio', 'Licenciatura', 'Ensino Fundamental I',\n",
       "       'Doutorado', 'Educação Infantil'], dtype=object)"
      ]
     },
     "execution_count": 10,
     "metadata": {},
     "output_type": "execute_result"
    }
   ],
   "source": [
    "#Tipo de Curso\n",
    "tipos_cursos = df_cleaned['Tipo de Curso'].unique()\n",
    "tipos_cursos"
   ]
  },
  {
   "cell_type": "markdown",
   "metadata": {},
   "source": [
    "## filtros"
   ]
  },
  {
   "cell_type": "code",
   "execution_count": 11,
   "metadata": {},
   "outputs": [
    {
     "data": {
      "text/plain": [
       "(43620, 18)"
      ]
     },
     "execution_count": 11,
     "metadata": {},
     "output_type": "execute_result"
    }
   ],
   "source": [
    "df_filtered = df_cleaned[ (df_cleaned['Instituição'] == \"IFSP\") & (df_cleaned['Tipo de Curso'].isin(['Técnico', 'Bacharelado', 'Tecnologia', 'Ensino Médio', 'Licenciatura'])) ]\n",
    "df_filtered.shape"
   ]
  },
  {
   "cell_type": "code",
   "execution_count": null,
   "metadata": {},
   "outputs": [],
   "source": []
  },
  {
   "cell_type": "code",
   "execution_count": 12,
   "metadata": {},
   "outputs": [
    {
     "data": {
      "text/plain": [
       "(4183, 18)"
      ]
     },
     "execution_count": 12,
     "metadata": {},
     "output_type": "execute_result"
    }
   ],
   "source": [
    "df_filtered = df_filtered[ df_filtered['Situação de Matrícula'].isin([\"Abandono\", \"Desligada\", \"Cancelada\"]) ]\n",
    "df_filtered.shape"
   ]
  },
  {
   "cell_type": "code",
   "execution_count": 15,
   "metadata": {},
   "outputs": [
    {
     "data": {
      "image/png": "[encoded data removed]"
     },
     "metadata": {
      "image/png": {
       "height": 480,
       "width": 640
      }
     },
     "output_type": "display_data"
    }
   ],
   "source": [
    "(\n",
    "    ggplot(df_filtered, aes(x=\"Situação de Matrícula\"))\n",
    "    + labs(y=\"Teste\")\n",
    "    + geom_histogram(binwidth=0.50, show_legend=True)\n",
    ")"
   ]
  }
 ],
 "metadata": {
  "kernelspec": {
   "display_name": "Python 3",
   "language": "python",
   "name": "python3"
  },
  "language_info": {
   "codemirror_mode": {
    "name": "ipython",
    "version": 3
   },
   "file_extension": ".py",
   "mimetype": "text/x-python",
   "name": "python",
   "nbconvert_exporter": "python",
   "pygments_lexer": "ipython3",
   "version": "3.11.0"
  }
 },
 "nbformat": 4,
 "nbformat_minor": 2
}
