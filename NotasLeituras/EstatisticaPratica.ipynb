{
 "cells": [
  {
   "cell_type": "markdown",
   "metadata": {},
   "source": [
    "# Notas de Leitura: Estatística Prática para Cientistas de Dados"
   ]
  },
  {
   "cell_type": "markdown",
   "metadata": {},
   "source": [
    "BRUCE, Peter; BRUCE, Andrew. **Estatística Prática para Cientistas de Dados** [recurso eletrônico]: 50 Conceitos Essenciais. Traduzido por Luciana Ferraz. Rio de Janeiro : Alta Books, 2019."
   ]
  },
  {
   "cell_type": "markdown",
   "metadata": {},
   "source": [
    "---"
   ]
  },
  {
   "cell_type": "markdown",
   "metadata": {},
   "source": [
    "## Elementos de Dados Estruturados"
   ]
  },
  {
   "cell_type": "markdown",
   "metadata": {},
   "source": [
    "* Dados vem de diversar fontes (sensores, eventos, textos, imagens, vídeos, etc)\n",
    "* Muitos desses dados não são estruturados\n",
    "* Dados brutos devem ser processados e manipulados para tomarem uma forma estruturada"
   ]
  },
  {
   "cell_type": "markdown",
   "metadata": {},
   "source": [
    "**Termos-chave para Tipos de Dados**"
   ]
  },
  {
   "cell_type": "markdown",
   "metadata": {},
   "source": [
    "* **Contínuos**: dados que podem assumir qualquer valor em um intervalo. (Sinônimos: intervalo, flutuação, numérico)\n",
    "* **Discretos**: dados que podem assumir apenas valores inteiros, como contagens. (Sinônimos: inteiro, contagem)\n",
    "* **Categóricos**: dados que podem assumir apenas um conjunto específico de valores representando um conjunto de possíveis categorias. (Sinônimos: enumeração, enumerado, fatores, nominal, polinômico)\n",
    "* **Binários**: um caso especial de dados categóricos com apenas duas categorias de valores (0/1, verdadeiro/falso). (Sinônimos: dicotômico, lógico, indicador, booleano)\n",
    "* **Ordinais**: dado categórico que tem uma ordem explícita. (Sinônimos: fator ordenado)"
   ]
  },
  {
   "cell_type": "markdown",
   "metadata": {},
   "source": [
    "**Por que a taxonomia?**<br>\n",
    "Na análise de dados é importante para determinar o tipo de exposição visual, análise de dados ou modelo estatístico.\n"
   ]
  },
  {
   "cell_type": "markdown",
   "metadata": {},
   "source": [
    "**Leitura adicional:**\n",
    "\n",
    "http://www.r-tutor.com/r-introduction/basic-data-types<br>\n",
    "http://www.w3schools.com/sql/sql_datatypes_general.asp<br>\n",
    "\n",
    "Documentation on data frames in R (https://stat.ethz.ch/R-manual/R- devel/library/base/html/data.frame.html — conteúdo em inglês).<br>\n",
    "\n",
    "Documentation on data frames in Python (http://pandas.pydata.org/pandas-docs/stable/dsintro.html#dataframe — conteúdo em inglês)."
   ]
  },
  {
   "cell_type": "markdown",
   "metadata": {},
   "source": [
    "### Estimativas de Localização"
   ]
  },
  {
   "cell_type": "markdown",
   "metadata": {},
   "source": [
    "Variáveis com dados podem conter milhares ou milhões de valores diferentes. Um passo fundamental na exploração dos dados é localizar onde a maioria dos valores está localizada (sua tendência central).\n",
    "\n",
    "Localização é uma das dimensões de um conjunto de dados.\n",
    "\n",
    "**Termos chave:**\n",
    "\n",
    "* **Média**: soma de todos os valores, dividida pelo número de valores. Sinônimo: média aritmética simples\n",
    "* **Média ponderada**: a soma de todos os valores, multiplicada por um peso e dividida pela soma dos pesos. Sinônimo: média aritmética ponderada.\n",
    "* **Mediana**: valor que ocupa a posição central dos dados. Sinônimo: 50º percentil.\n",
    "* **Mediana ponderada**: valor cuja posição está no centro da soma dos pesos, estando metade da soma antes e metade depois desse dado.\n",
    "* **Média aparada**: média de todos os valores depois da exclusão de um número fixo de valores externos. Sinônimo: média truncada.\n",
    "* **Robusto**: não sensível a valores externos. Sinônimo: resistente.\n",
    "* **Outlier**: valor de dados que é muito diferente da maioria dos dados. Sinônimo: valor externo.\n"
   ]
  },
  {
   "cell_type": "markdown",
   "metadata": {},
   "source": [
    "**Métricas e Estimativas**: estatísticos utilizam o termo estimativas para valores calculados a partir dos dados, e cientistas de dados e analistas utilizam o termo métricas. Estatísticos estimam, cientistas de dados medem."
   ]
  },
  {
   "cell_type": "markdown",
   "metadata": {},
   "source": [
    "### Estimativas de Variabilidade"
   ]
  },
  {
   "cell_type": "markdown",
   "metadata": {},
   "source": [
    "Uma segunda dimensão do conjunto de dados é a **variabilidade**, ou dispersão, e serve para medir se os valores estão compactados ou espalhados.\n",
    "\n",
    "**Termos-chave**\n",
    "\n",
    "* **Desvios**: diferença entre os valores observados e a estimativa de localização. Sinônimos: erros, resíduos.\n",
    "* **Variância**: soma dos quadrados dos desvios da média, divididos por n-1, sendo n o número de valores de dados. Sinônimo: erro médio quadrático.\n",
    "* **Desvio-padrão**: raíz quadrada da variância. Sinônimos: norma l2, norma Euclidiana.\n",
    "* **Desvio absoluto médio**: média do valor absoluto dos desvios da média. Sinônimos: norma l1, norma Manhattan.\n",
    "* **Desvio absoluto mediano da mediana**: mediana do valor absoluto dos desvios da mediana.\n",
    "* **Amplitude**: diferença entre o maior e o menor valor no conjunto de dados.\n",
    "* **Estatísticas ordinais**: métricas baseadas nos valores de dados classificados do menor ao maior. Sinônimo: classificações.\n",
    "* **Percentil**: valor tal que P por cento dos valores assumam esse valor ou menos, e (100 - P) por cento assumam este valor ou mais. Sinônimo: quantil.\n",
    "* **Amplitude interquatílica**: diferença entre o 75º percentil e o 25º percentil. Sinônimo: IQR "
   ]
  },
  {
   "cell_type": "markdown",
   "metadata": {},
   "source": [
    "**Ideias-chave**\n",
    "* Variância e desvio-padrão são estatísticas de variabilidade mais difundidas e comumente registradas\n",
    "* Ambas são sensíveis à outliers\n",
    "* Métricas mais robustas incluem desvios absolutos médio e de mediana da média e percentis (quantis)"
   ]
  },
  {
   "cell_type": "markdown",
   "metadata": {},
   "source": [
    "### Distribuição dos dados"
   ]
  },
  {
   "cell_type": "markdown",
   "metadata": {},
   "source": [
    "**Termos-chave para Explorar a Distribuição**\n",
    "\n",
    "* **Boxplot**: grafico apresentado por Tukey como um modo rápido de visualizar a distribuição dos dados. Sinônimo: gráfico de caixa e capilar\n",
    "* **Tabela de frequências**: registro da contagem de valores numéricos de dados que caem em um conjunto de intervalos (colunas)\n",
    "* **Histograma**: gráfico da tabela de frequências com as colunas no eixo x e a contagem (ou proporção) no euxo y.\n",
    "* **Gráfico de densidade**: versão simplificada do histograma, frequentemente usado em estimativas de desensidade Kernel."
   ]
  },
  {
   "cell_type": "markdown",
   "metadata": {},
   "source": [
    "---"
   ]
  },
  {
   "cell_type": "markdown",
   "metadata": {},
   "source": [
    "# Apêndice - Símbolos"
   ]
  },
  {
   "cell_type": "markdown",
   "metadata": {},
   "source": [
    "**N** ou **n**: número total de registros ou observações. Em estatística é maiúsculo se for referente a uma população e minúsculo se referente a uma amostra."
   ]
  }
 ],
 "metadata": {
  "language_info": {
   "name": "python"
  }
 },
 "nbformat": 4,
 "nbformat_minor": 2
}
