{
 "cells": [
  {
   "cell_type": "code",
   "execution_count": 1,
   "metadata": {
    "metadata": {}
   },
   "outputs": [
    {
     "name": "stdout",
     "output_type": "stream",
     "text": [
      "teste\n"
     ]
    },
    {
     "ename": "SyntaxError",
     "evalue": "invalid syntax (readers.py, line 1)",
     "output_type": "error",
     "traceback": [
      "Traceback \u001b[0;36m(most recent call last)\u001b[0m:\n",
      "  File \u001b[1;32m\"/usr/lib/python3/dist-packages/IPython/core/interactiveshell.py\"\u001b[0m, line \u001b[1;32m3457\u001b[0m, in \u001b[1;35mrun_code\u001b[0m\n    exec(code_obj, self.user_global_ns, self.user_ns)\n",
      "  File \u001b[1;32m\"/tmp/ipykernel_26223/877929941.py\"\u001b[0m, line \u001b[1;32m3\u001b[0m, in \u001b[1;35m<module>\u001b[0m\n    import pandas as pd\n",
      "  File \u001b[1;32m\"/home/luiz/.local/lib/python3.10/site-packages/pandas/__init__.py\"\u001b[0m, line \u001b[1;32m138\u001b[0m, in \u001b[1;35m<module>\u001b[0m\n    from pandas import api, arrays, errors, io, plotting, tseries\n",
      "  File \u001b[1;32m\"/home/luiz/.local/lib/python3.10/site-packages/pandas/api/__init__.py\"\u001b[0m, line \u001b[1;32m2\u001b[0m, in \u001b[1;35m<module>\u001b[0m\n    from pandas.api import (\n",
      "  File \u001b[1;32m\"/home/luiz/.local/lib/python3.10/site-packages/pandas/api/typing/__init__.py\"\u001b[0m, line \u001b[1;32m31\u001b[0m, in \u001b[1;35m<module>\u001b[0m\n    from pandas.io.json._json import JsonReader\n",
      "  File \u001b[1;32m\"/home/luiz/.local/lib/python3.10/site-packages/pandas/io/json/__init__.py\"\u001b[0m, line \u001b[1;32m1\u001b[0m, in \u001b[1;35m<module>\u001b[0m\n    from pandas.io.json._json import (\n",
      "  File \u001b[1;32m\"/home/luiz/.local/lib/python3.10/site-packages/pandas/io/json/_json.py\"\u001b[0m, line \u001b[1;32m71\u001b[0m, in \u001b[1;35m<module>\u001b[0m\n    from pandas.io.parsers.readers import validate_integer\n",
      "\u001b[0;36m  File \u001b[0;32m\"/home/luiz/.local/lib/python3.10/site-packages/pandas/io/parsers/__init__.py\"\u001b[0;36m, line \u001b[0;32m1\u001b[0;36m, in \u001b[0;35m<module>\u001b[0;36m\u001b[0m\n\u001b[0;31m    from pandas.io.parsers.readers import (\u001b[0m\n",
      "\u001b[0;36m  File \u001b[0;32m\"/home/luiz/.local/lib/python3.10/site-packages/pandas/io/parsers/readers.py\"\u001b[0;36m, line \u001b[0;32m1\u001b[0m\n\u001b[0;31m    w\"\"\"\u001b[0m\n\u001b[0m     ^\u001b[0m\n\u001b[0;31mSyntaxError\u001b[0m\u001b[0;31m:\u001b[0m invalid syntax\n"
     ]
    }
   ],
   "source": [
    "print(\"teste\")\n",
    "\n",
    "import pandas as pd"
   ]
  }
 ],
 "metadata": {
  "kernelspec": {
   "display_name": "Python 3",
   "language": "python",
   "name": "python3"
  },
  "language_info": {
   "codemirror_mode": {
    "name": "ipython",
    "version": 3
   },
   "file_extension": ".py",
   "mimetype": "text/x-python",
   "name": "python",
   "nbconvert_exporter": "python",
   "pygments_lexer": "ipython3",
   "version": "3.10.12"
  }
 },
 "nbformat": 4,
 "nbformat_minor": 2
}
