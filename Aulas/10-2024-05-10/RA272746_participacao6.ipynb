{
 "cells": [
  {
   "cell_type": "markdown",
   "metadata": {},
   "source": [
    "## IA376I – Tópicos em Engenharia de Computação VII\n",
    "### Tópico: Análise de Dados Visual (Visual Analytics)\n",
    "**Professora:** Wu, Shin - Ting<br>\n",
    "**Aluno:** Luiz Roberto Albano Junior **RA:** 272746<br>\n",
    "\n",
    "---\n",
    "\n",
    "### Participação 6\n",
    "\n",
    "**Exercícios 7.8 (Probabilidade)**\n",
    "\n",
    "---"
   ]
  },
  {
   "cell_type": "markdown",
   "metadata": {},
   "source": [
    "#### 1. Faça os learning checks LC7.1 – LC7.7 propostos em [34] (Chester Ismay and Albert Y. Kim. Statistical Inference via Data Science: A ModernDive into R and the Tidyverse: A ModernDive into R and the Tidyverse. Chapman & Hall/CRC The R Series, 2020.)."
   ]
  },
  {
   "cell_type": "markdown",
   "metadata": {},
   "source": [
    "**(LC7.1) Why was it important to mix the bowl before we sampled the balls?**<br>\n",
    "A mistura das bolas na tigela é necessária para não haver contaminação ou vício na coletas das próximas amostras, ou seja, garantir que as amostras sejam de fato aleatórias."
   ]
  },
  {
   "cell_type": "markdown",
   "metadata": {},
   "source": [
    "**(LC7.2) Why is it that our 33 groups of friends did not all have the same numbers of balls that were red out of 50, and hence different proportions red?**<br>\n",
    "Por conta da maneira como as bolas são arranjadas, não é possível garantir que possuam a mesma distribuição das porções. Com isso cada coleta de amostras pode conter diferentes composições de cores (aleatoriedade). Coletar aletóriamente porções de bolas faz com que o percentual de bolas vermelhas sejam diferentes, garantindo a variação amostral. A partir dela conseguimos determinar a proporção que mais se repete como um valor mais aceitável da quantidade de bolas vermelhas."
   ]
  },
  {
   "cell_type": "markdown",
   "metadata": {},
   "source": [
    "**(LC7.3) Why couldn’t we study the effects of sampling variation when we used the virtual shovel only once? Why did we need to take more than one virtual sample (in our case 33 virtual samples)?**<br>\n",
    "Por que precisamos coletar diferentes amostras para poder obter a variação amostral. Coletando uma única vez obtermos apenas uma amostra da população."
   ]
  },
  {
   "cell_type": "markdown",
   "metadata": {},
   "source": [
    "**(LC7.4) Why did we not take 1000 “tactile” samples of 50 balls by hand?**<br>\n",
    "Por que seria um trabalho muito árduo e demorado a ser realizado, por conta da quantidade de repetições a serem realizadas. Já com o auxílio de computadores, podemos automatizar o processo e repetir o processo em uma quantidade maior de vezes, sem levar muito mais tempo por isso."
   ]
  },
  {
   "cell_type": "markdown",
   "metadata": {},
   "source": [
    "**(LC7.5) Looking at Figure 7.10, would you say that sampling 50 balls where 30% of them were red is likely or not? What about sampling 50 balls where 10% of them were red?**<br>\n",
    "Analisando o gráfico é pouco provável, menos de 150 amostras contém 30% de bolas vermelhas. No mesmo gráfico a quantidade de amostras com 10% de bolas vermelhas é muito pequena, portanto quase improvável de ocorrer."
   ]
  },
  {
   "cell_type": "markdown",
   "metadata": {},
   "source": [
    "**(LC7.6) In Figure 7.12, we used shovels to take 1000 samples each, computed the resulting 1000 proportions of the shovel’s balls that were red, and then visualized the distribution of these 1000 proportions in a histogram. We did this for shovels with 25, 50, and 100 slots in them. As the size of the shovels increased, the histograms got narrower. In other words, as the size of the shovels increased from 25 to 50 to 100, did the 1000 proportions\n",
    "<br><br>\n",
    "A. vary less,<br>\n",
    "B. vary by the same amount, or<br>\n",
    "C. vary more?**<br><br>\n",
    "Resposta: Item A (variam menos), isto pode ser notado pelo achatamento de variações e pelo cálculo do desvio padrão."
   ]
  },
  {
   "cell_type": "markdown",
   "metadata": {},
   "source": [
    "**(LC7.7) What summary statistic did we use to quantify how much the 1000 proportions red varied?\n",
    "<br><br>\n",
    "A. The interquartile range<br>\n",
    "B. The standard deviation<br>\n",
    "C. The range: the largest value minus the smallest.**<br><br>\n",
    "Resposta: Item B - desvio padrão das amostras"
   ]
  },
  {
   "cell_type": "markdown",
   "metadata": {},
   "source": [
    "---"
   ]
  },
  {
   "cell_type": "markdown",
   "metadata": {},
   "source": [
    "#### 2. Após revisar a Seção 14.9 em [65], descreva, em uma sentença, um equívoco comum associado ã Lei dos Números Grandes.\n",
    "\n",
    "A Lei dos Números Grandes determina, de maneira simplificada, que quanto maior a quantidade de elementos de uma amostra, menor será o desvio padrão, tendendo à praticamente 0 (zero). Um equívoco bastante comum em uma amostragem é acreditar que cada evento de ocorrência de uma amostra tenha correlação com um ou mais eventos anteriores, acreditando que as possibilidades de amostras tendem a se equilibrar em uma quantidade pequena de eventos."
   ]
  },
  {
   "cell_type": "markdown",
   "metadata": {},
   "source": [
    "---"
   ]
  },
  {
   "cell_type": "markdown",
   "metadata": {},
   "source": [
    "#### 3. Qual é a probabilidade teórica e empírica da ocorrência do evento (cara, coroa, cara) ao lançarmos simultaneamente três moedas? Realize simulações de Monte Carlo para comparar os resultados obtidos por ambas as abordagens. Dica: A probabilidade teórica de ocorrência do evento (cara, coroa, cara) ao lançar simultaneamente três moedas pode ser calculada utilizando o princípio da multiplicação para eventos independentes. Cada lançamento é independente e a probabilidade de obter cara/coroa em cada moeda justa é 0.5."
   ]
  },
  {
   "cell_type": "markdown",
   "metadata": {},
   "source": [
    "Seguindo a lógica e dica do exercício a propabilidade de obter qualquer combinação de três eventos simultâneos é de 0.125 (0.5 * 0.5 * 0.5), sendo que em cada evento a possibilidade de um resultado cara ou coroa é de 0.5. Vamos comparar com a simulação a seguir:"
   ]
  },
  {
   "cell_type": "code",
   "execution_count": 1,
   "metadata": {},
   "outputs": [],
   "source": [
    "# Importação das bibliotecas necessárias para a simulação\n",
    "import random\n",
    "import pandas as pd\n",
    "from plotnine import *"
   ]
  },
  {
   "cell_type": "markdown",
   "metadata": {},
   "source": [
    "Vou utilizar duas funções para auxiliar na simulação. A primeira delas realiza uma jogada (evento) sorteando de forma randômica e retornando uma letra associada para o resultado, sendo 1 (cara / heads) e 0 (coroa / tails)."
   ]
  },
  {
   "cell_type": "code",
   "execution_count": 2,
   "metadata": {},
   "outputs": [
    {
     "name": "stdout",
     "output_type": "stream",
     "text": [
      "T, H, T, H, T, "
     ]
    }
   ],
   "source": [
    "def coin_toss():\n",
    "    return \"H\" if random.randint(0, 1) else \"T\"\n",
    "\n",
    "#Exemplos de retornos da função\n",
    "for i in range(5):\n",
    "    print(coin_toss(), end=\", \")\n"
   ]
  },
  {
   "cell_type": "markdown",
   "metadata": {},
   "source": [
    "A segunda função retorna um conjunto de dados com as simulações de lançamentos de 3 eventos simultâneos (lançamento de 3 moedas). A função recebe como parâmetro a quantidade amostras retornada. O retorno é dado em um DataFrame contendo resultados com a combinação dos três lançamentos simultâneos, sendo as seguintes possibilidades:<br>\n",
    "* HHH (cara / cara / cara)\n",
    "* HHT (cara / cara / coroa)\n",
    "* HTH (cara / coroa / cara)\n",
    "* THH (coroa / cara / cara)\n",
    "* HTT (cara / coroa / coroa)\n",
    "* THT (coroa / cara / coroa)\n",
    "* TTH (coroa / coroa / cara)\n",
    "* TTT (coroa / coroa / coroa)"
   ]
  },
  {
   "cell_type": "code",
   "execution_count": 3,
   "metadata": {},
   "outputs": [],
   "source": [
    "def simulate_coin_toss(num):\n",
    "    out = []\n",
    "    for i in range(num):\n",
    "        out.append( coin_toss() + coin_toss() + coin_toss())\n",
    "    return pd.DataFrame(out, columns=[\"Outcome\"])"
   ]
  },
  {
   "cell_type": "code",
   "execution_count": 4,
   "metadata": {},
   "outputs": [
    {
     "data": {
      "text/html": [
       "<div>\n",
       "<style scoped>\n",
       "    .dataframe tbody tr th:only-of-type {\n",
       "        vertical-align: middle;\n",
       "    }\n",
       "\n",
       "    .dataframe tbody tr th {\n",
       "        vertical-align: top;\n",
       "    }\n",
       "\n",
       "    .dataframe thead th {\n",
       "        text-align: right;\n",
       "    }\n",
       "</style>\n",
       "<table border=\"1\" class=\"dataframe\">\n",
       "  <thead>\n",
       "    <tr style=\"text-align: right;\">\n",
       "      <th></th>\n",
       "      <th>Outcome</th>\n",
       "    </tr>\n",
       "  </thead>\n",
       "  <tbody>\n",
       "    <tr>\n",
       "      <th>0</th>\n",
       "      <td>HTH</td>\n",
       "    </tr>\n",
       "    <tr>\n",
       "      <th>1</th>\n",
       "      <td>TTH</td>\n",
       "    </tr>\n",
       "    <tr>\n",
       "      <th>2</th>\n",
       "      <td>HHT</td>\n",
       "    </tr>\n",
       "    <tr>\n",
       "      <th>3</th>\n",
       "      <td>THH</td>\n",
       "    </tr>\n",
       "    <tr>\n",
       "      <th>4</th>\n",
       "      <td>HTH</td>\n",
       "    </tr>\n",
       "    <tr>\n",
       "      <th>...</th>\n",
       "      <td>...</td>\n",
       "    </tr>\n",
       "    <tr>\n",
       "      <th>99995</th>\n",
       "      <td>HTT</td>\n",
       "    </tr>\n",
       "    <tr>\n",
       "      <th>99996</th>\n",
       "      <td>THT</td>\n",
       "    </tr>\n",
       "    <tr>\n",
       "      <th>99997</th>\n",
       "      <td>TTH</td>\n",
       "    </tr>\n",
       "    <tr>\n",
       "      <th>99998</th>\n",
       "      <td>THH</td>\n",
       "    </tr>\n",
       "    <tr>\n",
       "      <th>99999</th>\n",
       "      <td>THH</td>\n",
       "    </tr>\n",
       "  </tbody>\n",
       "</table>\n",
       "<p>100000 rows × 1 columns</p>\n",
       "</div>"
      ],
      "text/plain": [
       "      Outcome\n",
       "0         HTH\n",
       "1         TTH\n",
       "2         HHT\n",
       "3         THH\n",
       "4         HTH\n",
       "...       ...\n",
       "99995     HTT\n",
       "99996     THT\n",
       "99997     TTH\n",
       "99998     THH\n",
       "99999     THH\n",
       "\n",
       "[100000 rows x 1 columns]"
      ]
     },
     "execution_count": 4,
     "metadata": {},
     "output_type": "execute_result"
    }
   ],
   "source": [
    "sample_size = 100000\n",
    "df_coins = simulate_coin_toss(sample_size)\n",
    "df_coins"
   ]
  },
  {
   "cell_type": "markdown",
   "metadata": {},
   "source": [
    "Histograma das ocorrências de resultados"
   ]
  },
  {
   "cell_type": "code",
   "execution_count": 15,
   "metadata": {},
   "outputs": [
    {
     "data": {
      "image/png": "[encoded data removed]"
     },
     "metadata": {
      "image/png": {
       "height": 480,
       "width": 640
      }
     },
     "output_type": "display_data"
    }
   ],
   "source": [
    "(\n",
    "    ggplot(df_coins, mapping=aes(x=\"Outcome\"))\n",
    "    + geom_histogram(binwidth=1, fill=\"orange\", color=\"black\")\n",
    "    + theme_linedraw()\n",
    ")"
   ]
  },
  {
   "cell_type": "code",
   "execution_count": 17,
   "metadata": {},
   "outputs": [
    {
     "data": {
      "text/html": [
       "<div>\n",
       "<style scoped>\n",
       "    .dataframe tbody tr th:only-of-type {\n",
       "        vertical-align: middle;\n",
       "    }\n",
       "\n",
       "    .dataframe tbody tr th {\n",
       "        vertical-align: top;\n",
       "    }\n",
       "\n",
       "    .dataframe thead th {\n",
       "        text-align: right;\n",
       "    }\n",
       "</style>\n",
       "<table border=\"1\" class=\"dataframe\">\n",
       "  <thead>\n",
       "    <tr style=\"text-align: right;\">\n",
       "      <th></th>\n",
       "      <th>Outcome</th>\n",
       "      <th>count</th>\n",
       "      <th>probability</th>\n",
       "    </tr>\n",
       "  </thead>\n",
       "  <tbody>\n",
       "    <tr>\n",
       "      <th>0</th>\n",
       "      <td>THT</td>\n",
       "      <td>12681</td>\n",
       "      <td>0.12681</td>\n",
       "    </tr>\n",
       "    <tr>\n",
       "      <th>1</th>\n",
       "      <td>HTH</td>\n",
       "      <td>12496</td>\n",
       "      <td>0.12496</td>\n",
       "    </tr>\n",
       "    <tr>\n",
       "      <th>3</th>\n",
       "      <td>TTH</td>\n",
       "      <td>12430</td>\n",
       "      <td>0.12430</td>\n",
       "    </tr>\n",
       "    <tr>\n",
       "      <th>4</th>\n",
       "      <td>HHT</td>\n",
       "      <td>12508</td>\n",
       "      <td>0.12508</td>\n",
       "    </tr>\n",
       "    <tr>\n",
       "      <th>5</th>\n",
       "      <td>HTT</td>\n",
       "      <td>12527</td>\n",
       "      <td>0.12527</td>\n",
       "    </tr>\n",
       "    <tr>\n",
       "      <th>7</th>\n",
       "      <td>THH</td>\n",
       "      <td>12505</td>\n",
       "      <td>0.12505</td>\n",
       "    </tr>\n",
       "    <tr>\n",
       "      <th>12</th>\n",
       "      <td>HHH</td>\n",
       "      <td>12491</td>\n",
       "      <td>0.12491</td>\n",
       "    </tr>\n",
       "    <tr>\n",
       "      <th>18</th>\n",
       "      <td>TTT</td>\n",
       "      <td>12362</td>\n",
       "      <td>0.12362</td>\n",
       "    </tr>\n",
       "  </tbody>\n",
       "</table>\n",
       "</div>"
      ],
      "text/plain": [
       "   Outcome  count  probability\n",
       "0      THT  12681      0.12681\n",
       "1      HTH  12496      0.12496\n",
       "3      TTH  12430      0.12430\n",
       "4      HHT  12508      0.12508\n",
       "5      HTT  12527      0.12527\n",
       "7      THH  12505      0.12505\n",
       "12     HHH  12491      0.12491\n",
       "18     TTT  12362      0.12362"
      ]
     },
     "execution_count": 17,
     "metadata": {},
     "output_type": "execute_result"
    }
   ],
   "source": [
    "outcome_counts = df_coins['Outcome'].value_counts()\n",
    "df_coins = pd.merge(df_coins, outcome_counts, on=\"Outcome\", how=\"left\")\n",
    "df_coins = df_coins.drop_duplicates()\n",
    "df_coins[\"probability\"] = df_coins[\"count\"] / sample_size\n",
    "df_coins"
   ]
  },
  {
   "cell_type": "markdown",
   "metadata": {},
   "source": [
    "---"
   ]
  },
  {
   "cell_type": "markdown",
   "metadata": {},
   "source": [
    "#### 4. O problema de Monty Hall e o problema dos aniversários são frequentemente estudados em contextos de teoria das probabilidades devido à ua natureza intrigante e contraintuitiva, que desafia a intuição inicial. Ambos os problemas envolvem situações em que a probabilidade aparente de um evento pode ser enganosa e contraintuitiva, levando muitas pessoas a tirarem conclusões incorretas. Leia a Seção 13.7 em [65] para explorar os dois problemas, e descubra como esses desafios podem ser abordados empiricamente usando a técnica de Monte Carlo. Para verificar se os resultados das simulaçõoes (stick, switch e results) seguem uma distribuição normal, faça um um histogram e um gráfico quantil-quantil (QQ-plot) com a distribuição normal para cada resultado. Use a função ggplot."
   ]
  }
 ],
 "metadata": {
  "kernelspec": {
   "display_name": "Python 3",
   "language": "python",
   "name": "python3"
  },
  "language_info": {
   "codemirror_mode": {
    "name": "ipython",
    "version": 3
   },
   "file_extension": ".py",
   "mimetype": "text/x-python",
   "name": "python",
   "nbconvert_exporter": "python",
   "pygments_lexer": "ipython3",
   "version": "3.12.3"
  }
 },
 "nbformat": 4,
 "nbformat_minor": 2
}
