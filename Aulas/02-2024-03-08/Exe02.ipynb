{
 "cells": [
  {
   "cell_type": "code",
   "execution_count": 20,
   "id": "18921546-0887-4675-80e6-4ca0e27284c0",
   "metadata": {},
   "outputs": [
    {
     "name": "stdin",
     "output_type": "stream",
     "text": [
      "Digite um número (tentativa 1 de 5:  50\n"
     ]
    },
    {
     "name": "stdout",
     "output_type": "stream",
     "text": [
      "O número informado é menor do que o número sorteado\n"
     ]
    },
    {
     "name": "stdin",
     "output_type": "stream",
     "text": [
      "Digite um número (tentativa 2 de 5:  70\n"
     ]
    },
    {
     "name": "stdout",
     "output_type": "stream",
     "text": [
      "O número informado é menor do que o número sorteado\n"
     ]
    },
    {
     "name": "stdin",
     "output_type": "stream",
     "text": [
      "Digite um número (tentativa 3 de 5:  90\n"
     ]
    },
    {
     "name": "stdout",
     "output_type": "stream",
     "text": [
      "O número informado é menor do que o número sorteado\n"
     ]
    },
    {
     "name": "stdin",
     "output_type": "stream",
     "text": [
      "Digite um número (tentativa 4 de 5:  95\n"
     ]
    },
    {
     "name": "stdout",
     "output_type": "stream",
     "text": [
      "O número informado é maior do que o número sorteado\n"
     ]
    },
    {
     "name": "stdin",
     "output_type": "stream",
     "text": [
      "Digite um número (tentativa 5 de 5:  94\n"
     ]
    },
    {
     "name": "stdout",
     "output_type": "stream",
     "text": [
      "O número informado é maior do que o número sorteado\n",
      "Você não acertou. O número sorteado foi 92\n"
     ]
    },
    {
     "name": "stdin",
     "output_type": "stream",
     "text": [
      "Deseja continuar jogando? S - Sim ou N - Não S\n",
      "Digite um número (tentativa 1 de 5:  60\n"
     ]
    },
    {
     "name": "stdout",
     "output_type": "stream",
     "text": [
      "O número informado é menor do que o número sorteado\n"
     ]
    },
    {
     "name": "stdin",
     "output_type": "stream",
     "text": [
      "Digite um número (tentativa 2 de 5:  80\n"
     ]
    },
    {
     "name": "stdout",
     "output_type": "stream",
     "text": [
      "O número informado é menor do que o número sorteado\n"
     ]
    },
    {
     "name": "stdin",
     "output_type": "stream",
     "text": [
      "Digite um número (tentativa 3 de 5:  90\n"
     ]
    },
    {
     "name": "stdout",
     "output_type": "stream",
     "text": [
      "O número informado é menor do que o número sorteado\n"
     ]
    },
    {
     "name": "stdin",
     "output_type": "stream",
     "text": [
      "Digite um número (tentativa 4 de 5:  96\n"
     ]
    },
    {
     "name": "stdout",
     "output_type": "stream",
     "text": [
      "O número informado é maior do que o número sorteado\n"
     ]
    },
    {
     "name": "stdin",
     "output_type": "stream",
     "text": [
      "Digite um número (tentativa 5 de 5:  95\n"
     ]
    },
    {
     "name": "stdout",
     "output_type": "stream",
     "text": [
      "O número informado é maior do que o número sorteado\n",
      "Você não acertou. O número sorteado foi 92\n"
     ]
    },
    {
     "name": "stdin",
     "output_type": "stream",
     "text": [
      "Deseja continuar jogando? S - Sim ou N - Não N\n"
     ]
    },
    {
     "name": "stdout",
     "output_type": "stream",
     "text": [
      "*** Resultados finais ***\n",
      "Número sorteado:  92\n",
      "Tentativas: \n",
      "50 70 90 95 94 \n",
      "Número sorteado:  92\n",
      "Tentativas: \n",
      "60 80 90 96 95 \n"
     ]
    }
   ],
   "source": [
    "import random\n",
    "\n",
    "tentativas = 5\n",
    "continuar_jogando = 'S'\n",
    "acertou = False\n",
    "resultados = []\n",
    "\n",
    "def imorime_resultados(resultados):\n",
    "    for i in resultados:\n",
    "        print('Número sorteado: ', i['numero_sorteado'])\n",
    "        print('Tentativas: ')\n",
    "        \n",
    "        for numero in i['tentativas']:\n",
    "            print(numero, end=' ')\n",
    "\n",
    "        #Quebra de linha\n",
    "        print('')\n",
    "    \n",
    "while continuar_jogando == 'S':\n",
    "    numero_sorteado = random.randint(1, 100)\n",
    "    estatisticas = {'numero_sorteado': numero_sorteado, 'tentativas': []}\n",
    "    \n",
    "    for i in range(1, tentativas+1):\n",
    "        numero = int(input(f\"Digite um número (tentativa {i} de {tentativas}: \"))\n",
    "        estatisticas['tentativas'].append(numero)\n",
    "\n",
    "        if numero == numero_sorteado:\n",
    "            acertou = True\n",
    "            break\n",
    "        elif numero > numero_sorteado:\n",
    "            print(\"O número informado é maior do que o número sorteado\")\n",
    "        else:\n",
    "            print(\"O número informado é menor do que o número sorteado\")\n",
    "\n",
    "    if acertou == True:\n",
    "        print(\"Parabéns você acertou!\")\n",
    "        acertou = False\n",
    "    else :\n",
    "        print(f\"Você não acertou. O número sorteado foi {numero_sorteado}\")\n",
    "\n",
    "    resultados.append(estatisticas)        \n",
    "    continuar_jogando = input('Deseja continuar jogando? S - Sim ou N - Não')\n",
    "\n",
    "#Resultados finais\n",
    "print(\"*** Resultados finais ***\")\n",
    "imorime_resultados(resultados)\n",
    "    "
   ]
  }
 ],
 "metadata": {
  "kernelspec": {
   "display_name": "Python 3 (ipykernel)",
   "language": "python",
   "name": "python3"
  },
  "language_info": {
   "codemirror_mode": {
    "name": "ipython",
    "version": 3
   },
   "file_extension": ".py",
   "mimetype": "text/x-python",
   "name": "python",
   "nbconvert_exporter": "python",
   "pygments_lexer": "ipython3",
   "version": "3.11.0"
  }
 },
 "nbformat": 4,
 "nbformat_minor": 5
}
