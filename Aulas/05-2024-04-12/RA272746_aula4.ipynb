{
 "cells": [
  {
   "cell_type": "markdown",
   "metadata": {},
   "source": [
    "## IA376I – Tópicos em Engenharia de Computação VII\n",
    "### Tópico: Análise de Dados Visual (Visual Analytics)\n",
    "**Professora:** Wu, Shin - Ting<br>\n",
    "**Aluno:** Luiz Roberto Albano Junior **RA:** 272746<br>\n",
    "\n",
    "---\n"
   ]
  },
  {
   "cell_type": "markdown",
   "metadata": {},
   "source": [
    "### Exercícios 5.6\n",
    "\n",
    "#### Item 1: Faça os itens 1 – 7 da Seção 12.10 da referência [61], usando o conjunto de dados Galton em [86]."
   ]
  },
  {
   "cell_type": "markdown",
   "metadata": {},
   "source": [
    "**Carregamento dos dados e bibliotecas necessárias**"
   ]
  },
  {
   "cell_type": "code",
   "execution_count": 105,
   "metadata": {},
   "outputs": [
    {
     "data": {
      "text/html": [
       "<div>\n",
       "<style scoped>\n",
       "    .dataframe tbody tr th:only-of-type {\n",
       "        vertical-align: middle;\n",
       "    }\n",
       "\n",
       "    .dataframe tbody tr th {\n",
       "        vertical-align: top;\n",
       "    }\n",
       "\n",
       "    .dataframe thead th {\n",
       "        text-align: right;\n",
       "    }\n",
       "</style>\n",
       "<table border=\"1\" class=\"dataframe\">\n",
       "  <thead>\n",
       "    <tr style=\"text-align: right;\">\n",
       "      <th></th>\n",
       "      <th>rownames</th>\n",
       "      <th>family</th>\n",
       "      <th>father</th>\n",
       "      <th>mother</th>\n",
       "      <th>midparentHeight</th>\n",
       "      <th>children</th>\n",
       "      <th>childNum</th>\n",
       "      <th>gender</th>\n",
       "      <th>childHeight</th>\n",
       "    </tr>\n",
       "  </thead>\n",
       "  <tbody>\n",
       "    <tr>\n",
       "      <th>0</th>\n",
       "      <td>1</td>\n",
       "      <td>001</td>\n",
       "      <td>78.5</td>\n",
       "      <td>67.0</td>\n",
       "      <td>75.43</td>\n",
       "      <td>4</td>\n",
       "      <td>1</td>\n",
       "      <td>male</td>\n",
       "      <td>73.2</td>\n",
       "    </tr>\n",
       "    <tr>\n",
       "      <th>4</th>\n",
       "      <td>5</td>\n",
       "      <td>002</td>\n",
       "      <td>75.5</td>\n",
       "      <td>66.5</td>\n",
       "      <td>73.66</td>\n",
       "      <td>4</td>\n",
       "      <td>1</td>\n",
       "      <td>male</td>\n",
       "      <td>73.5</td>\n",
       "    </tr>\n",
       "    <tr>\n",
       "      <th>5</th>\n",
       "      <td>6</td>\n",
       "      <td>002</td>\n",
       "      <td>75.5</td>\n",
       "      <td>66.5</td>\n",
       "      <td>73.66</td>\n",
       "      <td>4</td>\n",
       "      <td>2</td>\n",
       "      <td>male</td>\n",
       "      <td>72.5</td>\n",
       "    </tr>\n",
       "    <tr>\n",
       "      <th>8</th>\n",
       "      <td>9</td>\n",
       "      <td>003</td>\n",
       "      <td>75.0</td>\n",
       "      <td>64.0</td>\n",
       "      <td>72.06</td>\n",
       "      <td>2</td>\n",
       "      <td>1</td>\n",
       "      <td>male</td>\n",
       "      <td>71.0</td>\n",
       "    </tr>\n",
       "    <tr>\n",
       "      <th>10</th>\n",
       "      <td>11</td>\n",
       "      <td>004</td>\n",
       "      <td>75.0</td>\n",
       "      <td>64.0</td>\n",
       "      <td>72.06</td>\n",
       "      <td>5</td>\n",
       "      <td>1</td>\n",
       "      <td>male</td>\n",
       "      <td>70.5</td>\n",
       "    </tr>\n",
       "  </tbody>\n",
       "</table>\n",
       "</div>"
      ],
      "text/plain": [
       "    rownames family  father  mother  midparentHeight  children  childNum  \\\n",
       "0          1    001    78.5    67.0            75.43         4         1   \n",
       "4          5    002    75.5    66.5            73.66         4         1   \n",
       "5          6    002    75.5    66.5            73.66         4         2   \n",
       "8          9    003    75.0    64.0            72.06         2         1   \n",
       "10        11    004    75.0    64.0            72.06         5         1   \n",
       "\n",
       "   gender  childHeight  \n",
       "0    male         73.2  \n",
       "4    male         73.5  \n",
       "5    male         72.5  \n",
       "8    male         71.0  \n",
       "10   male         70.5  "
      ]
     },
     "execution_count": 105,
     "metadata": {},
     "output_type": "execute_result"
    }
   ],
   "source": [
    "import pandas as pd\n",
    "from plotnine import *\n",
    "from scipy import stats\n",
    "\n",
    "#Importação dos dados\n",
    "galton = pd.read_csv(\"GaltonFamilies.csv\")\n",
    "\n",
    "#Filtra os filhos de gênero masculino\n",
    "galton = galton[galton['gender'] == \"male\"]\n",
    "galton.head()"
   ]
  },
  {
   "cell_type": "code",
   "execution_count": 106,
   "metadata": {},
   "outputs": [
    {
     "data": {
      "text/plain": [
       "count    481.000000\n",
       "mean      69.234096\n",
       "std        2.623905\n",
       "min       60.000000\n",
       "25%       67.500000\n",
       "50%       69.200000\n",
       "75%       71.000000\n",
       "max       79.000000\n",
       "Name: childHeight, dtype: float64"
      ]
     },
     "execution_count": 106,
     "metadata": {},
     "output_type": "execute_result"
    }
   ],
   "source": [
    "#Adiciona os dados de altura dos filhos em um vetor x\n",
    "x = galton['childHeight']\n",
    "x.describe()"
   ]
  },
  {
   "cell_type": "markdown",
   "metadata": {},
   "source": [
    "#### 1. Compute the average and median of these data."
   ]
  },
  {
   "cell_type": "code",
   "execution_count": 107,
   "metadata": {},
   "outputs": [
    {
     "name": "stdout",
     "output_type": "stream",
     "text": [
      "Média: 69.23\n",
      "Mediana: 69.20\n"
     ]
    }
   ],
   "source": [
    "galton_avg = x.agg('mean')\n",
    "galton_median = x.agg('median')\n",
    "\n",
    "print(f\"Média: {galton_avg:.2f}\")\n",
    "print(f\"Mediana: {galton_median:.2f}\")"
   ]
  },
  {
   "cell_type": "markdown",
   "metadata": {},
   "source": [
    "#### 2. Compute the median and median absolute deviation of these data."
   ]
  },
  {
   "cell_type": "code",
   "execution_count": 108,
   "metadata": {},
   "outputs": [
    {
     "name": "stdout",
     "output_type": "stream",
     "text": [
      "Mediana: 69.20\n",
      "Desvio absoluto da mediana: 1.80\n"
     ]
    }
   ],
   "source": [
    "galton_abs_dev = stats.median_abs_deviation(x)\n",
    "\n",
    "print(f\"Mediana: {galton_median:.2f}\")\n",
    "print(f\"Desvio absoluto da mediana: {galton_abs_dev:.2f}\")"
   ]
  },
  {
   "cell_type": "markdown",
   "metadata": {},
   "source": [
    "#### 3. Now suppose Galton made a mistake when entering the first value and forgot to use the decimal point. You can imitate this error by typing:"
   ]
  },
  {
   "cell_type": "code",
   "execution_count": 109,
   "metadata": {},
   "outputs": [
    {
     "data": {
      "text/plain": [
       "0      732.0\n",
       "4       73.5\n",
       "5       72.5\n",
       "8       71.0\n",
       "10      70.5\n",
       "       ...  \n",
       "918     68.0\n",
       "924     64.5\n",
       "925     66.0\n",
       "929     64.0\n",
       "932     66.5\n",
       "Name: childHeight, Length: 481, dtype: float64"
      ]
     },
     "execution_count": 109,
     "metadata": {},
     "output_type": "execute_result"
    }
   ],
   "source": [
    "x_with_error = x.copy()\n",
    "x_with_error.iloc[0] = x_with_error.iloc[0] * 10\n",
    "x_with_error"
   ]
  },
  {
   "cell_type": "markdown",
   "metadata": {},
   "source": [
    "How many inches does the average grow after this mistake?"
   ]
  },
  {
   "cell_type": "code",
   "execution_count": 110,
   "metadata": {},
   "outputs": [
    {
     "name": "stdout",
     "output_type": "stream",
     "text": [
      "1.369646569646548\n"
     ]
    }
   ],
   "source": [
    "print( x_with_error.agg('mean') - galton_avg )"
   ]
  },
  {
   "cell_type": "markdown",
   "metadata": {},
   "source": [
    "#### 4. How many inches does the SD grow after this mistake?"
   ]
  },
  {
   "cell_type": "code",
   "execution_count": 111,
   "metadata": {},
   "outputs": [
    {
     "name": "stdout",
     "output_type": "stream",
     "text": [
      "27.70915374097227\n"
     ]
    }
   ],
   "source": [
    "print( x_with_error.agg('std') - x.agg('std') )"
   ]
  },
  {
   "cell_type": "markdown",
   "metadata": {},
   "source": [
    "#### 5. How many inches does the median grow after this mistake?"
   ]
  },
  {
   "cell_type": "code",
   "execution_count": 112,
   "metadata": {},
   "outputs": [
    {
     "name": "stdout",
     "output_type": "stream",
     "text": [
      "0.0\n"
     ]
    }
   ],
   "source": [
    "print( x_with_error.agg('median') - x.agg('median') )"
   ]
  },
  {
   "cell_type": "markdown",
   "metadata": {},
   "source": [
    "#### 6. How many inches does the MAD grow after this mistake?"
   ]
  },
  {
   "cell_type": "code",
   "execution_count": 113,
   "metadata": {},
   "outputs": [
    {
     "name": "stdout",
     "output_type": "stream",
     "text": [
      "0.0\n"
     ]
    }
   ],
   "source": [
    "print( stats.median_abs_deviation(x_with_error) - stats.median_abs_deviation(x) )"
   ]
  },
  {
   "cell_type": "markdown",
   "metadata": {},
   "source": [
    "#### 7. How could you use exploratory data analysis to detect that an error was made?\n",
    "\n",
    "Since it is only one value out of many, we will not be able to detect this.<br>\n",
    "We would see an obvious shift in the distribution.<br>\n",
    "**(X) A boxplot, histogram, or qq-plot would reveal a clear outlier.**<br>\n",
    "A scatterplot would show high levels of measurement error."
   ]
  }
 ],
 "metadata": {
  "kernelspec": {
   "display_name": "Python 3",
   "language": "python",
   "name": "python3"
  },
  "language_info": {
   "codemirror_mode": {
    "name": "ipython",
    "version": 3
   },
   "file_extension": ".py",
   "mimetype": "text/x-python",
   "name": "python",
   "nbconvert_exporter": "python",
   "pygments_lexer": "ipython3",
   "version": "3.10.12"
  }
 },
 "nbformat": 4,
 "nbformat_minor": 2
}
