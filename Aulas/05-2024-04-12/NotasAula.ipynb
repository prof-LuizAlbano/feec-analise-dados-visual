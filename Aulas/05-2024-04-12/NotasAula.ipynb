{
 "cells": [
  {
   "cell_type": "markdown",
   "metadata": {},
   "source": [
    "# Notas de Aula - 12/04/2024\n",
    "\n",
    "## Estatística Descritiva\n",
    "\n",
    "\n",
    "\n",
    "normalização dos dados"
   ]
  },
  {
   "cell_type": "markdown",
   "metadata": {},
   "source": []
  }
 ],
 "metadata": {
  "language_info": {
   "name": "python"
  }
 },
 "nbformat": 4,
 "nbformat_minor": 2
}
